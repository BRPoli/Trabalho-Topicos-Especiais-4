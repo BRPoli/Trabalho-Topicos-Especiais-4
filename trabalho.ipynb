{
 "cells": [
  {
   "cell_type": "code",
   "execution_count": 10,
   "metadata": {},
   "outputs": [],
   "source": [
    "import pandas as pd\n",
    "import numpy\n",
    "import matplotlib.pyplot as pp"
   ]
  },
  {
   "cell_type": "code",
   "execution_count": 2,
   "metadata": {},
   "outputs": [],
   "source": [
    "df = pd.read_csv('conversa.txt', sep= '|')\n",
    "df.columns = ['Data', 'Hora', 'Remetente', 'Mensagem']\n",
    "df.set_index = ['Data']\n"
   ]
  },
  {
   "cell_type": "code",
   "execution_count": 9,
   "metadata": {},
   "outputs": [],
   "source": [
    "df['Data'] = df['Data'].apply(pd.to_datetime)\n",
    "df['Remetente'] = df['Remetente'].astype('string')\n",
    "df['Mensagem'] = df['Mensagem'].astype('string')"
   ]
  },
  {
   "cell_type": "code",
   "execution_count": 5,
   "metadata": {},
   "outputs": [
    {
     "name": "stdout",
     "output_type": "stream",
     "text": [
      "<class 'pandas.core.frame.DataFrame'>\n",
      "RangeIndex: 1137 entries, 0 to 1136\n",
      "Data columns (total 4 columns):\n",
      " #   Column     Non-Null Count  Dtype         \n",
      "---  ------     --------------  -----         \n",
      " 0   Data       1137 non-null   datetime64[ns]\n",
      " 1   Hora       1137 non-null   object        \n",
      " 2   Remetente  1137 non-null   string        \n",
      " 3   Mensagem   1137 non-null   string        \n",
      "dtypes: datetime64[ns](1), object(1), string(2)\n",
      "memory usage: 35.7+ KB\n"
     ]
    }
   ],
   "source": [
    "df.info()"
   ]
  },
  {
   "cell_type": "code",
   "execution_count": 49,
   "metadata": {},
   "outputs": [
    {
     "data": {
      "text/html": [
       "<div>\n",
       "<style scoped>\n",
       "    .dataframe tbody tr th:only-of-type {\n",
       "        vertical-align: middle;\n",
       "    }\n",
       "\n",
       "    .dataframe tbody tr th {\n",
       "        vertical-align: top;\n",
       "    }\n",
       "\n",
       "    .dataframe thead th {\n",
       "        text-align: right;\n",
       "    }\n",
       "</style>\n",
       "<table border=\"1\" class=\"dataframe\">\n",
       "  <thead>\n",
       "    <tr style=\"text-align: right;\">\n",
       "      <th></th>\n",
       "      <th>Data</th>\n",
       "      <th>Hora</th>\n",
       "      <th>Remetente</th>\n",
       "      <th>Mensagem</th>\n",
       "    </tr>\n",
       "  </thead>\n",
       "  <tbody>\n",
       "    <tr>\n",
       "      <th>0</th>\n",
       "      <td>2022-06-29</td>\n",
       "      <td>09:08</td>\n",
       "      <td>Mãe</td>\n",
       "      <td>Bom dia</td>\n",
       "    </tr>\n",
       "    <tr>\n",
       "      <th>1</th>\n",
       "      <td>2022-04-08</td>\n",
       "      <td>08:42</td>\n",
       "      <td>Mãe</td>\n",
       "      <td>&lt;Mídia oculta&gt;</td>\n",
       "    </tr>\n",
       "    <tr>\n",
       "      <th>2</th>\n",
       "      <td>2022-06-08</td>\n",
       "      <td>21:20</td>\n",
       "      <td>Mãe</td>\n",
       "      <td>Oi amor</td>\n",
       "    </tr>\n",
       "    <tr>\n",
       "      <th>3</th>\n",
       "      <td>2022-06-08</td>\n",
       "      <td>21:23</td>\n",
       "      <td>Mãe</td>\n",
       "      <td>Então quer que o Léo se encontre com vc no te...</td>\n",
       "    </tr>\n",
       "    <tr>\n",
       "      <th>4</th>\n",
       "      <td>2022-06-08</td>\n",
       "      <td>21:23</td>\n",
       "      <td>Bruno Polidoro</td>\n",
       "      <td>Amanhã eu vô ter que trabalhar</td>\n",
       "    </tr>\n",
       "    <tr>\n",
       "      <th>...</th>\n",
       "      <td>...</td>\n",
       "      <td>...</td>\n",
       "      <td>...</td>\n",
       "      <td>...</td>\n",
       "    </tr>\n",
       "    <tr>\n",
       "      <th>1132</th>\n",
       "      <td>2024-10-20</td>\n",
       "      <td>19:45</td>\n",
       "      <td>Bruno Polidoro</td>\n",
       "      <td>boa noite</td>\n",
       "    </tr>\n",
       "    <tr>\n",
       "      <th>1133</th>\n",
       "      <td>2024-10-20</td>\n",
       "      <td>19:45</td>\n",
       "      <td>Bruno Polidoro</td>\n",
       "      <td>bom trabalho</td>\n",
       "    </tr>\n",
       "    <tr>\n",
       "      <th>1134</th>\n",
       "      <td>2024-10-20</td>\n",
       "      <td>19:45</td>\n",
       "      <td>Mãe</td>\n",
       "      <td>Obrigada</td>\n",
       "    </tr>\n",
       "    <tr>\n",
       "      <th>1135</th>\n",
       "      <td>2024-10-20</td>\n",
       "      <td>19:45</td>\n",
       "      <td>Mãe</td>\n",
       "      <td>Mande de novo teu currículo pro meu Gmail</td>\n",
       "    </tr>\n",
       "    <tr>\n",
       "      <th>1136</th>\n",
       "      <td>2024-10-20</td>\n",
       "      <td>19:45</td>\n",
       "      <td>Mãe</td>\n",
       "      <td>Bjsss</td>\n",
       "    </tr>\n",
       "  </tbody>\n",
       "</table>\n",
       "<p>1137 rows × 4 columns</p>\n",
       "</div>"
      ],
      "text/plain": [
       "           Data     Hora         Remetente  \\\n",
       "0    2022-06-29   09:08               Mãe    \n",
       "1    2022-04-08   08:42               Mãe    \n",
       "2    2022-06-08   21:20               Mãe    \n",
       "3    2022-06-08   21:23               Mãe    \n",
       "4    2022-06-08   21:23    Bruno Polidoro    \n",
       "...         ...      ...               ...   \n",
       "1132 2024-10-20   19:45    Bruno Polidoro    \n",
       "1133 2024-10-20   19:45    Bruno Polidoro    \n",
       "1134 2024-10-20   19:45               Mãe    \n",
       "1135 2024-10-20   19:45               Mãe    \n",
       "1136 2024-10-20   19:45               Mãe    \n",
       "\n",
       "                                               Mensagem  \n",
       "0                                               Bom dia  \n",
       "1                                        <Mídia oculta>  \n",
       "2                                               Oi amor  \n",
       "3      Então quer que o Léo se encontre com vc no te...  \n",
       "4                        Amanhã eu vô ter que trabalhar  \n",
       "...                                                 ...  \n",
       "1132                                          boa noite  \n",
       "1133                                       bom trabalho  \n",
       "1134                                           Obrigada  \n",
       "1135          Mande de novo teu currículo pro meu Gmail  \n",
       "1136                                              Bjsss  \n",
       "\n",
       "[1137 rows x 4 columns]"
      ]
     },
     "execution_count": 49,
     "metadata": {},
     "output_type": "execute_result"
    }
   ],
   "source": [
    "df"
   ]
  },
  {
   "cell_type": "code",
   "execution_count": 7,
   "metadata": {},
   "outputs": [
    {
     "name": "stdout",
     "output_type": "stream",
     "text": [
      "Remetentes e a quantidade total de mensagens:\n"
     ]
    },
    {
     "data": {
      "text/html": [
       "<div>\n",
       "<style scoped>\n",
       "    .dataframe tbody tr th:only-of-type {\n",
       "        vertical-align: middle;\n",
       "    }\n",
       "\n",
       "    .dataframe tbody tr th {\n",
       "        vertical-align: top;\n",
       "    }\n",
       "\n",
       "    .dataframe thead th {\n",
       "        text-align: right;\n",
       "    }\n",
       "</style>\n",
       "<table border=\"1\" class=\"dataframe\">\n",
       "  <thead>\n",
       "    <tr style=\"text-align: right;\">\n",
       "      <th></th>\n",
       "      <th>count</th>\n",
       "    </tr>\n",
       "    <tr>\n",
       "      <th>Remetente</th>\n",
       "      <th></th>\n",
       "    </tr>\n",
       "  </thead>\n",
       "  <tbody>\n",
       "    <tr>\n",
       "      <th>Mãe</th>\n",
       "      <td>657</td>\n",
       "    </tr>\n",
       "    <tr>\n",
       "      <th>Bruno Polidoro</th>\n",
       "      <td>479</td>\n",
       "    </tr>\n",
       "    <tr>\n",
       "      <th>Bruno Polidoro</th>\n",
       "      <td>1</td>\n",
       "    </tr>\n",
       "  </tbody>\n",
       "</table>\n",
       "</div>"
      ],
      "text/plain": [
       "                  count\n",
       "Remetente              \n",
       "Mãe                 657\n",
       "Bruno Polidoro      479\n",
       "Bruno Polidoro        1"
      ]
     },
     "execution_count": 7,
     "metadata": {},
     "output_type": "execute_result"
    }
   ],
   "source": [
    "df_remetentes = pd.DataFrame(df.Remetente.value_counts())\n",
    "print(\"Remetentes e a quantidade total de mensagens:\")\n",
    "df_remetentes"
   ]
  },
  {
   "cell_type": "code",
   "execution_count": 8,
   "metadata": {},
   "outputs": [
    {
     "data": {
      "text/html": [
       "<div>\n",
       "<style scoped>\n",
       "    .dataframe tbody tr th:only-of-type {\n",
       "        vertical-align: middle;\n",
       "    }\n",
       "\n",
       "    .dataframe tbody tr th {\n",
       "        vertical-align: top;\n",
       "    }\n",
       "\n",
       "    .dataframe thead th {\n",
       "        text-align: right;\n",
       "    }\n",
       "</style>\n",
       "<table border=\"1\" class=\"dataframe\">\n",
       "  <thead>\n",
       "    <tr style=\"text-align: right;\">\n",
       "      <th></th>\n",
       "      <th>Data</th>\n",
       "      <th>Hora</th>\n",
       "      <th>Remetente</th>\n",
       "      <th>Mensagem</th>\n",
       "    </tr>\n",
       "  </thead>\n",
       "  <tbody>\n",
       "    <tr>\n",
       "      <th>0</th>\n",
       "      <td>2022-06-29</td>\n",
       "      <td>09:08</td>\n",
       "      <td>Mãe</td>\n",
       "      <td>Bom dia</td>\n",
       "    </tr>\n",
       "    <tr>\n",
       "      <th>1</th>\n",
       "      <td>2022-04-08</td>\n",
       "      <td>08:42</td>\n",
       "      <td>Mãe</td>\n",
       "      <td>&lt;Mídia oculta&gt;</td>\n",
       "    </tr>\n",
       "    <tr>\n",
       "      <th>2</th>\n",
       "      <td>2022-06-08</td>\n",
       "      <td>21:20</td>\n",
       "      <td>Mãe</td>\n",
       "      <td>Oi amor</td>\n",
       "    </tr>\n",
       "    <tr>\n",
       "      <th>3</th>\n",
       "      <td>2022-06-08</td>\n",
       "      <td>21:23</td>\n",
       "      <td>Mãe</td>\n",
       "      <td>Então quer que o Léo se encontre com vc no te...</td>\n",
       "    </tr>\n",
       "    <tr>\n",
       "      <th>5</th>\n",
       "      <td>2022-06-08</td>\n",
       "      <td>21:23</td>\n",
       "      <td>Mãe</td>\n",
       "      <td>A festa e de tarde</td>\n",
       "    </tr>\n",
       "    <tr>\n",
       "      <th>...</th>\n",
       "      <td>...</td>\n",
       "      <td>...</td>\n",
       "      <td>...</td>\n",
       "      <td>...</td>\n",
       "    </tr>\n",
       "    <tr>\n",
       "      <th>1129</th>\n",
       "      <td>2024-10-20</td>\n",
       "      <td>19:44</td>\n",
       "      <td>Mãe</td>\n",
       "      <td>Deus abençoe e te proteja</td>\n",
       "    </tr>\n",
       "    <tr>\n",
       "      <th>1130</th>\n",
       "      <td>2024-10-20</td>\n",
       "      <td>19:44</td>\n",
       "      <td>Mãe</td>\n",
       "      <td>Bjsss</td>\n",
       "    </tr>\n",
       "    <tr>\n",
       "      <th>1134</th>\n",
       "      <td>2024-10-20</td>\n",
       "      <td>19:45</td>\n",
       "      <td>Mãe</td>\n",
       "      <td>Obrigada</td>\n",
       "    </tr>\n",
       "    <tr>\n",
       "      <th>1135</th>\n",
       "      <td>2024-10-20</td>\n",
       "      <td>19:45</td>\n",
       "      <td>Mãe</td>\n",
       "      <td>Mande de novo teu currículo pro meu Gmail</td>\n",
       "    </tr>\n",
       "    <tr>\n",
       "      <th>1136</th>\n",
       "      <td>2024-10-20</td>\n",
       "      <td>19:45</td>\n",
       "      <td>Mãe</td>\n",
       "      <td>Bjsss</td>\n",
       "    </tr>\n",
       "  </tbody>\n",
       "</table>\n",
       "<p>657 rows × 4 columns</p>\n",
       "</div>"
      ],
      "text/plain": [
       "           Data     Hora Remetente  \\\n",
       "0    2022-06-29   09:08       Mãe    \n",
       "1    2022-04-08   08:42       Mãe    \n",
       "2    2022-06-08   21:20       Mãe    \n",
       "3    2022-06-08   21:23       Mãe    \n",
       "5    2022-06-08   21:23       Mãe    \n",
       "...         ...      ...       ...   \n",
       "1129 2024-10-20   19:44       Mãe    \n",
       "1130 2024-10-20   19:44       Mãe    \n",
       "1134 2024-10-20   19:45       Mãe    \n",
       "1135 2024-10-20   19:45       Mãe    \n",
       "1136 2024-10-20   19:45       Mãe    \n",
       "\n",
       "                                               Mensagem  \n",
       "0                                               Bom dia  \n",
       "1                                        <Mídia oculta>  \n",
       "2                                               Oi amor  \n",
       "3      Então quer que o Léo se encontre com vc no te...  \n",
       "5                                    A festa e de tarde  \n",
       "...                                                 ...  \n",
       "1129                          Deus abençoe e te proteja  \n",
       "1130                                              Bjsss  \n",
       "1134                                           Obrigada  \n",
       "1135          Mande de novo teu currículo pro meu Gmail  \n",
       "1136                                              Bjsss  \n",
       "\n",
       "[657 rows x 4 columns]"
      ]
     },
     "execution_count": 8,
     "metadata": {},
     "output_type": "execute_result"
    }
   ],
   "source": [
    "busca = input('Informe o nome do remetente').title()\n",
    "df.loc[df['Remetente'].str.strip()==busca]"
   ]
  },
  {
   "cell_type": "code",
   "execution_count": 30,
   "metadata": {},
   "outputs": [
    {
     "data": {
      "text/plain": [
       "array([[<Axes: title={'center': ' Bruno Polidoro '}>,\n",
       "        <Axes: title={'center': ' Bruno Polidoro  '}>],\n",
       "       [<Axes: title={'center': ' Mãe '}>, <Axes: >]], dtype=object)"
      ]
     },
     "execution_count": 30,
     "metadata": {},
     "output_type": "execute_result"
    },
    {
     "data": {
      "image/png": "[encoded data removed]",
      "text/plain": [
       "<Figure size 640x480 with 4 Axes>"
      ]
     },
     "metadata": {},
     "output_type": "display_data"
    }
   ],
   "source": [
    "df.hist('Data', 'Remetente')"
   ]
  },
  {
   "cell_type": "code",
   "execution_count": 21,
   "metadata": {},
   "outputs": [
    {
     "data": {
      "text/plain": [
       "([<matplotlib.patches.Wedge at 0x21afee16270>,\n",
       "  <matplotlib.patches.Wedge at 0x21afee0e5a0>,\n",
       "  <matplotlib.patches.Wedge at 0x21afee18440>],\n",
       " [Text(-0.2663106279496164, 1.0672762760602716, ' Mãe '),\n",
       "  Text(0.26336091635451686, -1.0680079717571913, ' Bruno Polidoro '),\n",
       "  Text(1.0999958009164659, -0.0030394022673578417, ' Bruno Polidoro  ')],\n",
       " [Text(-0.14526034251797257, 0.5821506960328754, '57.8%'),\n",
       "  Text(0.14365140892064554, -0.5825498027766497, '42.1%'),\n",
       "  Text(0.5999977095907996, -0.0016578557821951862, '0.1%')])"
      ]
     },
     "execution_count": 21,
     "metadata": {},
     "output_type": "execute_result"
    },
    {
     "data": {
      "image/png": "[encoded data removed]",
      "text/plain": [
       "<Figure size 640x480 with 1 Axes>"
      ]
     },
     "metadata": {},
     "output_type": "display_data"
    }
   ],
   "source": [
    "labels = df['Remetente'].unique()\n",
    "sizes = df.Remetente.value_counts()\n",
    "fig, ax = pp.subplots()\n",
    "ax.pie(sizes, labels=labels, autopct='%1.1f%%')"
   ]
  },
  {
   "cell_type": "code",
   "execution_count": 55,
   "metadata": {},
   "outputs": [
    {
     "data": {
      "text/plain": [
       "<Axes: xlabel='Remetente'>"
      ]
     },
     "execution_count": 55,
     "metadata": {},
     "output_type": "execute_result"
    },
    {
     "data": {
      "image/png": "[encoded data removed]",
      "text/plain": [
       "<Figure size 640x480 with 1 Axes>"
      ]
     },
     "metadata": {},
     "output_type": "display_data"
    }
   ],
   "source": [
    "df.plot('Remetente', 'Data')"
   ]
  }
 ],
 "metadata": {
  "kernelspec": {
   "display_name": "Python 3",
   "language": "python",
   "name": "python3"
  },
  "language_info": {
   "codemirror_mode": {
    "name": "ipython",
    "version": 3
   },
   "file_extension": ".py",
   "mimetype": "text/x-python",
   "name": "python",
   "nbconvert_exporter": "python",
   "pygments_lexer": "ipython3",
   "version": "3.12.6"
  }
 },
 "nbformat": 4,
 "nbformat_minor": 2
}
